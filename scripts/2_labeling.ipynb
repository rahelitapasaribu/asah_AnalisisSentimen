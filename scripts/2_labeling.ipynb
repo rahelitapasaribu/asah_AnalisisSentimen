{
 "cells": [
  {
   "cell_type": "code",
   "execution_count": 17,
   "id": "8307ddd9",
   "metadata": {},
   "outputs": [],
   "source": [
    "import pandas as pd\n",
    "from langdetect import detect, DetectorFactory, LangDetectException\n",
    "from tqdm import tqdm\n",
    "import os\n",
    "DetectorFactory.seed = 42"
   ]
  },
  {
   "cell_type": "code",
   "execution_count": 18,
   "id": "aa98ce0f",
   "metadata": {},
   "outputs": [
    {
     "name": "stdout",
     "output_type": "stream",
     "text": [
      "Data loaded: 100127 rows\n"
     ]
    },
    {
     "data": {
      "text/html": [
       "<div>\n",
       "<style scoped>\n",
       "    .dataframe tbody tr th:only-of-type {\n",
       "        vertical-align: middle;\n",
       "    }\n",
       "\n",
       "    .dataframe tbody tr th {\n",
       "        vertical-align: top;\n",
       "    }\n",
       "\n",
       "    .dataframe thead th {\n",
       "        text-align: right;\n",
       "    }\n",
       "</style>\n",
       "<table border=\"1\" class=\"dataframe\">\n",
       "  <thead>\n",
       "    <tr style=\"text-align: right;\">\n",
       "      <th></th>\n",
       "      <th>reviewId</th>\n",
       "      <th>userName</th>\n",
       "      <th>content</th>\n",
       "      <th>score</th>\n",
       "      <th>thumbsUpCount</th>\n",
       "      <th>at</th>\n",
       "      <th>replyContent</th>\n",
       "      <th>repliedAt</th>\n",
       "      <th>version</th>\n",
       "    </tr>\n",
       "  </thead>\n",
       "  <tbody>\n",
       "    <tr>\n",
       "      <th>0</th>\n",
       "      <td>1c637a3a-43d8-453a-8da5-48a2d26927bc</td>\n",
       "      <td>Sudarto</td>\n",
       "      <td>sangat membantu</td>\n",
       "      <td>5</td>\n",
       "      <td>0</td>\n",
       "      <td>2025-10-28T00:53:58</td>\n",
       "      <td>NaN</td>\n",
       "      <td>NaN</td>\n",
       "      <td>5.31.2</td>\n",
       "    </tr>\n",
       "    <tr>\n",
       "      <th>1</th>\n",
       "      <td>e851b0c8-862d-4dca-b2db-875e6c03a625</td>\n",
       "      <td>kamu nanya</td>\n",
       "      <td>terlalu lama mendapatkan driver di daerah cipa...</td>\n",
       "      <td>1</td>\n",
       "      <td>0</td>\n",
       "      <td>2025-10-28T00:53:22</td>\n",
       "      <td>Mohon maaf ya, Kak @kamu nanya. Kesulitan mend...</td>\n",
       "      <td>2025-10-28T07:01:18</td>\n",
       "      <td>5.35.1</td>\n",
       "    </tr>\n",
       "    <tr>\n",
       "      <th>2</th>\n",
       "      <td>1dab09ce-061f-4751-b58c-ef12b03753b8</td>\n",
       "      <td>FTHR</td>\n",
       "      <td>sampai saat ini masih oke</td>\n",
       "      <td>5</td>\n",
       "      <td>0</td>\n",
       "      <td>2025-10-28T00:00:17</td>\n",
       "      <td>NaN</td>\n",
       "      <td>NaN</td>\n",
       "      <td>5.36.2</td>\n",
       "    </tr>\n",
       "    <tr>\n",
       "      <th>3</th>\n",
       "      <td>da593ef8-bc9f-42ce-8aac-3ab0bb5e768f</td>\n",
       "      <td>Safitri Yenii</td>\n",
       "      <td>sangat membantu saya</td>\n",
       "      <td>5</td>\n",
       "      <td>0</td>\n",
       "      <td>2025-10-28T00:00:06</td>\n",
       "      <td>NaN</td>\n",
       "      <td>NaN</td>\n",
       "      <td>NaN</td>\n",
       "    </tr>\n",
       "    <tr>\n",
       "      <th>4</th>\n",
       "      <td>3eb584fc-95bd-4c07-b9cb-b45850ea82a7</td>\n",
       "      <td>Hartono Jack</td>\n",
       "      <td>menyenangkan transaksi belanja mudah dan cepat</td>\n",
       "      <td>5</td>\n",
       "      <td>0</td>\n",
       "      <td>2025-10-27T23:44:59</td>\n",
       "      <td>NaN</td>\n",
       "      <td>NaN</td>\n",
       "      <td>NaN</td>\n",
       "    </tr>\n",
       "  </tbody>\n",
       "</table>\n",
       "</div>"
      ],
      "text/plain": [
       "                               reviewId       userName  \\\n",
       "0  1c637a3a-43d8-453a-8da5-48a2d26927bc        Sudarto   \n",
       "1  e851b0c8-862d-4dca-b2db-875e6c03a625     kamu nanya   \n",
       "2  1dab09ce-061f-4751-b58c-ef12b03753b8           FTHR   \n",
       "3  da593ef8-bc9f-42ce-8aac-3ab0bb5e768f  Safitri Yenii   \n",
       "4  3eb584fc-95bd-4c07-b9cb-b45850ea82a7   Hartono Jack   \n",
       "\n",
       "                                             content  score  thumbsUpCount  \\\n",
       "0                                    sangat membantu      5              0   \n",
       "1  terlalu lama mendapatkan driver di daerah cipa...      1              0   \n",
       "2                          sampai saat ini masih oke      5              0   \n",
       "3                               sangat membantu saya      5              0   \n",
       "4     menyenangkan transaksi belanja mudah dan cepat      5              0   \n",
       "\n",
       "                    at                                       replyContent  \\\n",
       "0  2025-10-28T00:53:58                                                NaN   \n",
       "1  2025-10-28T00:53:22  Mohon maaf ya, Kak @kamu nanya. Kesulitan mend...   \n",
       "2  2025-10-28T00:00:17                                                NaN   \n",
       "3  2025-10-28T00:00:06                                                NaN   \n",
       "4  2025-10-27T23:44:59                                                NaN   \n",
       "\n",
       "             repliedAt version  \n",
       "0                  NaN  5.31.2  \n",
       "1  2025-10-28T07:01:18  5.35.1  \n",
       "2                  NaN  5.36.2  \n",
       "3                  NaN     NaN  \n",
       "4                  NaN     NaN  "
      ]
     },
     "execution_count": 18,
     "metadata": {},
     "output_type": "execute_result"
    }
   ],
   "source": [
    "df = pd.read_csv(\"C:/Users/rahel/OneDrive/Dokumen/asah_AnalisisSentimen/data/gojek_reviews_full.csv\")\n",
    "print(f\"Data loaded: {len(df)} rows\")\n",
    "df.head()"
   ]
  },
  {
   "cell_type": "code",
   "execution_count": 19,
   "id": "d3e22559",
   "metadata": {},
   "outputs": [
    {
     "name": "stderr",
     "output_type": "stream",
     "text": [
      "Detecting language: 100%|██████████| 100127/100127 [06:33<00:00, 254.46it/s]\n"
     ]
    },
    {
     "name": "stdout",
     "output_type": "stream",
     "text": [
      "Filtered to Indonesian reviews: 98558 rows remaining.\n"
     ]
    }
   ],
   "source": [
    "def language_detect(text):\n",
    "    try:\n",
    "        return detect(text)\n",
    "    except LangDetectException:\n",
    "        return \"unknown\"\n",
    "\n",
    "tqdm.pandas(desc=\"Detecting language\")\n",
    "df[\"language\"] = df[\"content\"].progress_apply(language_detect)\n",
    "\n",
    "df = df[df[\"language\"] == \"id\"]\n",
    "print(\"Filtered to Indonesian reviews:\", len(df), \"rows remaining.\")"
   ]
  },
  {
   "cell_type": "code",
   "execution_count": 20,
   "id": "8f62f222",
   "metadata": {},
   "outputs": [
    {
     "name": "stderr",
     "output_type": "stream",
     "text": [
      "Detecting language: 100%|██████████| 98558/98558 [00:00<00:00, 1179760.59it/s]\n"
     ]
    },
    {
     "data": {
      "text/plain": [
       "label\n",
       "positive    57666\n",
       "negative    36199\n",
       "neutral      4693\n",
       "Name: count, dtype: int64"
      ]
     },
     "execution_count": 20,
     "metadata": {},
     "output_type": "execute_result"
    }
   ],
   "source": [
    "def labeling(score):\n",
    "    score = int(score)\n",
    "    if score <=2:\n",
    "        return \"negative\"\n",
    "    elif score == 3:\n",
    "        return \"neutral\"\n",
    "    else:\n",
    "        return \"positive\"\n",
    "\n",
    "df[\"label\"] = df[\"score\"].progress_apply(labeling)\n",
    "df[\"label\"].value_counts()"
   ]
  },
  {
   "cell_type": "code",
   "execution_count": 21,
   "id": "808f3493",
   "metadata": {},
   "outputs": [
    {
     "name": "stdout",
     "output_type": "stream",
     "text": [
      "Labeled data saved to ../data/processed/gojek_reviews_labeled.csv, total rows: 98558\n"
     ]
    }
   ],
   "source": [
    "os.makedirs(\"../data/processed\", exist_ok=True)\n",
    "output_path = \"../data/processed/gojek_reviews_labeled.csv\"\n",
    "df.to_csv(output_path, index=False, encoding=\"utf-8-sig\")\n",
    "\n",
    "print(f\"Labeled data saved to {output_path}, total rows: {len(df)}\")"
   ]
  }
 ],
 "metadata": {
  "kernelspec": {
   "display_name": "asah",
   "language": "python",
   "name": "python3"
  },
  "language_info": {
   "codemirror_mode": {
    "name": "ipython",
    "version": 3
   },
   "file_extension": ".py",
   "mimetype": "text/x-python",
   "name": "python",
   "nbconvert_exporter": "python",
   "pygments_lexer": "ipython3",
   "version": "3.10.19"
  }
 },
 "nbformat": 4,
 "nbformat_minor": 5
}
